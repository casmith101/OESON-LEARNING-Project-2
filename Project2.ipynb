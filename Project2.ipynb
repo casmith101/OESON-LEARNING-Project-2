{
  "nbformat": 4,
  "nbformat_minor": 0,
  "metadata": {
    "colab": {
      "provenance": []
    },
    "kernelspec": {
      "name": "python3",
      "display_name": "Python 3"
    },
    "language_info": {
      "name": "python"
    }
  },
  "cells": [
    {
      "cell_type": "code",
      "execution_count": null,
      "metadata": {
        "colab": {
          "base_uri": "https://localhost:8080/",
          "height": 356
        },
        "id": "zvvWhNy-gA7u",
        "outputId": "0dd95d37-b7c1-4816-f87b-610521898893"
      },
      "outputs": [
        {
          "output_type": "error",
          "ename": "FileNotFoundError",
          "evalue": "[Errno 2] No such file or directory: 'HRDataset_v14.xlsx'",
          "traceback": [
            "\u001b[0;31m---------------------------------------------------------------------------\u001b[0m",
            "\u001b[0;31mFileNotFoundError\u001b[0m                         Traceback (most recent call last)",
            "\u001b[0;32m<ipython-input-1-27ab674340b6>\u001b[0m in \u001b[0;36m<cell line: 5>\u001b[0;34m()\u001b[0m\n\u001b[1;32m      3\u001b[0m \u001b[0;32mimport\u001b[0m \u001b[0mpandas\u001b[0m \u001b[0;32mas\u001b[0m \u001b[0mpd\u001b[0m\u001b[0;34m\u001b[0m\u001b[0;34m\u001b[0m\u001b[0m\n\u001b[1;32m      4\u001b[0m \u001b[0;34m\u001b[0m\u001b[0m\n\u001b[0;32m----> 5\u001b[0;31m \u001b[0mHR\u001b[0m\u001b[0;34m=\u001b[0m \u001b[0mpd\u001b[0m\u001b[0;34m.\u001b[0m\u001b[0mread_excel\u001b[0m\u001b[0;34m(\u001b[0m\u001b[0;34m'HRDataset_v14.xlsx'\u001b[0m\u001b[0;34m)\u001b[0m\u001b[0;34m\u001b[0m\u001b[0;34m\u001b[0m\u001b[0m\n\u001b[0m\u001b[1;32m      6\u001b[0m \u001b[0mHR\u001b[0m\u001b[0;34m.\u001b[0m\u001b[0mhead\u001b[0m\u001b[0;34m(\u001b[0m\u001b[0;34m)\u001b[0m\u001b[0;34m\u001b[0m\u001b[0;34m\u001b[0m\u001b[0m\n",
            "\u001b[0;32m/usr/local/lib/python3.10/dist-packages/pandas/util/_decorators.py\u001b[0m in \u001b[0;36mwrapper\u001b[0;34m(*args, **kwargs)\u001b[0m\n\u001b[1;32m    209\u001b[0m                 \u001b[0;32melse\u001b[0m\u001b[0;34m:\u001b[0m\u001b[0;34m\u001b[0m\u001b[0;34m\u001b[0m\u001b[0m\n\u001b[1;32m    210\u001b[0m                     \u001b[0mkwargs\u001b[0m\u001b[0;34m[\u001b[0m\u001b[0mnew_arg_name\u001b[0m\u001b[0;34m]\u001b[0m \u001b[0;34m=\u001b[0m \u001b[0mnew_arg_value\u001b[0m\u001b[0;34m\u001b[0m\u001b[0;34m\u001b[0m\u001b[0m\n\u001b[0;32m--> 211\u001b[0;31m             \u001b[0;32mreturn\u001b[0m \u001b[0mfunc\u001b[0m\u001b[0;34m(\u001b[0m\u001b[0;34m*\u001b[0m\u001b[0margs\u001b[0m\u001b[0;34m,\u001b[0m \u001b[0;34m**\u001b[0m\u001b[0mkwargs\u001b[0m\u001b[0;34m)\u001b[0m\u001b[0;34m\u001b[0m\u001b[0;34m\u001b[0m\u001b[0m\n\u001b[0m\u001b[1;32m    212\u001b[0m \u001b[0;34m\u001b[0m\u001b[0m\n\u001b[1;32m    213\u001b[0m         \u001b[0;32mreturn\u001b[0m \u001b[0mcast\u001b[0m\u001b[0;34m(\u001b[0m\u001b[0mF\u001b[0m\u001b[0;34m,\u001b[0m \u001b[0mwrapper\u001b[0m\u001b[0;34m)\u001b[0m\u001b[0;34m\u001b[0m\u001b[0;34m\u001b[0m\u001b[0m\n",
            "\u001b[0;32m/usr/local/lib/python3.10/dist-packages/pandas/util/_decorators.py\u001b[0m in \u001b[0;36mwrapper\u001b[0;34m(*args, **kwargs)\u001b[0m\n\u001b[1;32m    329\u001b[0m                     \u001b[0mstacklevel\u001b[0m\u001b[0;34m=\u001b[0m\u001b[0mfind_stack_level\u001b[0m\u001b[0;34m(\u001b[0m\u001b[0;34m)\u001b[0m\u001b[0;34m,\u001b[0m\u001b[0;34m\u001b[0m\u001b[0;34m\u001b[0m\u001b[0m\n\u001b[1;32m    330\u001b[0m                 )\n\u001b[0;32m--> 331\u001b[0;31m             \u001b[0;32mreturn\u001b[0m \u001b[0mfunc\u001b[0m\u001b[0;34m(\u001b[0m\u001b[0;34m*\u001b[0m\u001b[0margs\u001b[0m\u001b[0;34m,\u001b[0m \u001b[0;34m**\u001b[0m\u001b[0mkwargs\u001b[0m\u001b[0;34m)\u001b[0m\u001b[0;34m\u001b[0m\u001b[0;34m\u001b[0m\u001b[0m\n\u001b[0m\u001b[1;32m    332\u001b[0m \u001b[0;34m\u001b[0m\u001b[0m\n\u001b[1;32m    333\u001b[0m         \u001b[0;31m# error: \"Callable[[VarArg(Any), KwArg(Any)], Any]\" has no\u001b[0m\u001b[0;34m\u001b[0m\u001b[0;34m\u001b[0m\u001b[0m\n",
            "\u001b[0;32m/usr/local/lib/python3.10/dist-packages/pandas/io/excel/_base.py\u001b[0m in \u001b[0;36mread_excel\u001b[0;34m(io, sheet_name, header, names, index_col, usecols, squeeze, dtype, engine, converters, true_values, false_values, skiprows, nrows, na_values, keep_default_na, na_filter, verbose, parse_dates, date_parser, thousands, decimal, comment, skipfooter, convert_float, mangle_dupe_cols, storage_options)\u001b[0m\n\u001b[1;32m    480\u001b[0m     \u001b[0;32mif\u001b[0m \u001b[0;32mnot\u001b[0m \u001b[0misinstance\u001b[0m\u001b[0;34m(\u001b[0m\u001b[0mio\u001b[0m\u001b[0;34m,\u001b[0m \u001b[0mExcelFile\u001b[0m\u001b[0;34m)\u001b[0m\u001b[0;34m:\u001b[0m\u001b[0;34m\u001b[0m\u001b[0;34m\u001b[0m\u001b[0m\n\u001b[1;32m    481\u001b[0m         \u001b[0mshould_close\u001b[0m \u001b[0;34m=\u001b[0m \u001b[0;32mTrue\u001b[0m\u001b[0;34m\u001b[0m\u001b[0;34m\u001b[0m\u001b[0m\n\u001b[0;32m--> 482\u001b[0;31m         \u001b[0mio\u001b[0m \u001b[0;34m=\u001b[0m \u001b[0mExcelFile\u001b[0m\u001b[0;34m(\u001b[0m\u001b[0mio\u001b[0m\u001b[0;34m,\u001b[0m \u001b[0mstorage_options\u001b[0m\u001b[0;34m=\u001b[0m\u001b[0mstorage_options\u001b[0m\u001b[0;34m,\u001b[0m \u001b[0mengine\u001b[0m\u001b[0;34m=\u001b[0m\u001b[0mengine\u001b[0m\u001b[0;34m)\u001b[0m\u001b[0;34m\u001b[0m\u001b[0;34m\u001b[0m\u001b[0m\n\u001b[0m\u001b[1;32m    483\u001b[0m     \u001b[0;32melif\u001b[0m \u001b[0mengine\u001b[0m \u001b[0;32mand\u001b[0m \u001b[0mengine\u001b[0m \u001b[0;34m!=\u001b[0m \u001b[0mio\u001b[0m\u001b[0;34m.\u001b[0m\u001b[0mengine\u001b[0m\u001b[0;34m:\u001b[0m\u001b[0;34m\u001b[0m\u001b[0;34m\u001b[0m\u001b[0m\n\u001b[1;32m    484\u001b[0m         raise ValueError(\n",
            "\u001b[0;32m/usr/local/lib/python3.10/dist-packages/pandas/io/excel/_base.py\u001b[0m in \u001b[0;36m__init__\u001b[0;34m(self, path_or_buffer, engine, storage_options)\u001b[0m\n\u001b[1;32m   1650\u001b[0m                 \u001b[0mext\u001b[0m \u001b[0;34m=\u001b[0m \u001b[0;34m\"xls\"\u001b[0m\u001b[0;34m\u001b[0m\u001b[0;34m\u001b[0m\u001b[0m\n\u001b[1;32m   1651\u001b[0m             \u001b[0;32melse\u001b[0m\u001b[0;34m:\u001b[0m\u001b[0;34m\u001b[0m\u001b[0;34m\u001b[0m\u001b[0m\n\u001b[0;32m-> 1652\u001b[0;31m                 ext = inspect_excel_format(\n\u001b[0m\u001b[1;32m   1653\u001b[0m                     \u001b[0mcontent_or_path\u001b[0m\u001b[0;34m=\u001b[0m\u001b[0mpath_or_buffer\u001b[0m\u001b[0;34m,\u001b[0m \u001b[0mstorage_options\u001b[0m\u001b[0;34m=\u001b[0m\u001b[0mstorage_options\u001b[0m\u001b[0;34m\u001b[0m\u001b[0;34m\u001b[0m\u001b[0m\n\u001b[1;32m   1654\u001b[0m                 )\n",
            "\u001b[0;32m/usr/local/lib/python3.10/dist-packages/pandas/io/excel/_base.py\u001b[0m in \u001b[0;36minspect_excel_format\u001b[0;34m(content_or_path, storage_options)\u001b[0m\n\u001b[1;32m   1523\u001b[0m         \u001b[0mcontent_or_path\u001b[0m \u001b[0;34m=\u001b[0m \u001b[0mBytesIO\u001b[0m\u001b[0;34m(\u001b[0m\u001b[0mcontent_or_path\u001b[0m\u001b[0;34m)\u001b[0m\u001b[0;34m\u001b[0m\u001b[0;34m\u001b[0m\u001b[0m\n\u001b[1;32m   1524\u001b[0m \u001b[0;34m\u001b[0m\u001b[0m\n\u001b[0;32m-> 1525\u001b[0;31m     with get_handle(\n\u001b[0m\u001b[1;32m   1526\u001b[0m         \u001b[0mcontent_or_path\u001b[0m\u001b[0;34m,\u001b[0m \u001b[0;34m\"rb\"\u001b[0m\u001b[0;34m,\u001b[0m \u001b[0mstorage_options\u001b[0m\u001b[0;34m=\u001b[0m\u001b[0mstorage_options\u001b[0m\u001b[0;34m,\u001b[0m \u001b[0mis_text\u001b[0m\u001b[0;34m=\u001b[0m\u001b[0;32mFalse\u001b[0m\u001b[0;34m\u001b[0m\u001b[0;34m\u001b[0m\u001b[0m\n\u001b[1;32m   1527\u001b[0m     ) as handle:\n",
            "\u001b[0;32m/usr/local/lib/python3.10/dist-packages/pandas/io/common.py\u001b[0m in \u001b[0;36mget_handle\u001b[0;34m(path_or_buf, mode, encoding, compression, memory_map, is_text, errors, storage_options)\u001b[0m\n\u001b[1;32m    863\u001b[0m         \u001b[0;32melse\u001b[0m\u001b[0;34m:\u001b[0m\u001b[0;34m\u001b[0m\u001b[0;34m\u001b[0m\u001b[0m\n\u001b[1;32m    864\u001b[0m             \u001b[0;31m# Binary mode\u001b[0m\u001b[0;34m\u001b[0m\u001b[0;34m\u001b[0m\u001b[0m\n\u001b[0;32m--> 865\u001b[0;31m             \u001b[0mhandle\u001b[0m \u001b[0;34m=\u001b[0m \u001b[0mopen\u001b[0m\u001b[0;34m(\u001b[0m\u001b[0mhandle\u001b[0m\u001b[0;34m,\u001b[0m \u001b[0mioargs\u001b[0m\u001b[0;34m.\u001b[0m\u001b[0mmode\u001b[0m\u001b[0;34m)\u001b[0m\u001b[0;34m\u001b[0m\u001b[0;34m\u001b[0m\u001b[0m\n\u001b[0m\u001b[1;32m    866\u001b[0m         \u001b[0mhandles\u001b[0m\u001b[0;34m.\u001b[0m\u001b[0mappend\u001b[0m\u001b[0;34m(\u001b[0m\u001b[0mhandle\u001b[0m\u001b[0;34m)\u001b[0m\u001b[0;34m\u001b[0m\u001b[0;34m\u001b[0m\u001b[0m\n\u001b[1;32m    867\u001b[0m \u001b[0;34m\u001b[0m\u001b[0m\n",
            "\u001b[0;31mFileNotFoundError\u001b[0m: [Errno 2] No such file or directory: 'HRDataset_v14.xlsx'"
          ]
        }
      ],
      "source": [
        "import matplotlib.pyplot as plt\n",
        "import seaborn as sns\n",
        "import pandas as pd\n",
        "\n",
        "HR= pd.read_excel('HRDataset_v14.xlsx')\n",
        "HR.head()"
      ]
    },
    {
      "source": [
        "import numpy as np\n",
        "from google.colab import autoviz\n",
        "\n",
        "def heatmap(df, x_colname, y_colname, figscale=1, mpl_palette_name='viridis'):\n",
        "  from matplotlib import pyplot as plt\n",
        "  import seaborn as sns\n",
        "  import pandas as pd\n",
        "  plt.subplots(figsize=(8 * figscale, 8 * figscale))\n",
        "  df_2dhist = pd.DataFrame({\n",
        "      x_label: grp[y_colname].value_counts()\n",
        "      for x_label, grp in df.groupby(x_colname)\n",
        "  })\n",
        "  sns.heatmap(df_2dhist, cmap=mpl_palette_name)\n",
        "  plt.xlabel(x_colname)\n",
        "  plt.ylabel(y_colname)\n",
        "  return autoviz.MplChart.from_current_mpl_state()\n",
        "\n",
        "chart = heatmap(_df_15, *['Sex', 'MaritalDesc'], **{})\n",
        "chart"
      ],
      "cell_type": "code",
      "metadata": {
        "id": "ofiWQqPRH2wg"
      },
      "execution_count": null,
      "outputs": []
    },
    {
      "cell_type": "code",
      "source": [
        "def heatmap(df, x_colname, y_colname, figscale=1, mpl_palette_name='viridis'):\n",
        "  from matplotlib import pyplot as plt\n",
        "  import seaborn as sns\n",
        "  import pandas as pd\n",
        "  plt.subplots(figsize=(8 * figscale, 8 * figscale))\n",
        "  df_2dhist = pd.DataFrame({\n",
        "      x_label: grp[y_colname].value_counts()\n",
        "      for x_label, grp in df.groupby(x_colname)\n",
        "  })\n",
        "  sns.heatmap(df_2dhist, cmap=mpl_palette_name)\n",
        "  plt.xlabel(x_colname)\n",
        "  plt.ylabel(y_colname)\n",
        "  return autoviz.MplChart.from_current_mpl_state()\n",
        "\n",
        "chart = heatmap(_df_15, *['Sex', 'PerformanceScore'], **{})\n",
        "chart"
      ],
      "metadata": {
        "id": "3ek7YPLVSKwS"
      },
      "execution_count": null,
      "outputs": []
    },
    {
      "source": [
        "import numpy as np\n",
        "from google.colab import autoviz\n",
        "\n",
        "def value_plot(df, y, figscale=1):\n",
        "  from matplotlib import pyplot as plt\n",
        "  df[y].plot(kind='line', figsize=(8 * figscale, 4 * figscale), title=y)\n",
        "  plt.gca().spines[['top', 'right']].set_visible(False)\n",
        "  plt.tight_layout()\n",
        "  return autoviz.MplChart.from_current_mpl_state()\n",
        "\n",
        "chart = value_plot(_df_1, *['MarriedID'], **{})\n",
        "chart"
      ],
      "cell_type": "code",
      "metadata": {
        "id": "yUkZTeJxHFvJ"
      },
      "execution_count": null,
      "outputs": []
    },
    {
      "cell_type": "code",
      "source": [
        "HR['Absences'].describe()"
      ],
      "metadata": {
        "id": "N1YVMIbEqKk8"
      },
      "execution_count": null,
      "outputs": []
    },
    {
      "cell_type": "code",
      "source": [
        "HR['EmpSatisfaction'].describe()"
      ],
      "metadata": {
        "id": "7W5ZcRlvuMZy"
      },
      "execution_count": null,
      "outputs": []
    },
    {
      "cell_type": "code",
      "source": [
        "HR['SpecialProjectsCount'].describe()"
      ],
      "metadata": {
        "id": "6ufuDrF7ueT4"
      },
      "execution_count": null,
      "outputs": []
    },
    {
      "cell_type": "code",
      "source": [
        "HR['Salary'].describe()"
      ],
      "metadata": {
        "id": "rc6gNVotuvcl"
      },
      "execution_count": null,
      "outputs": []
    },
    {
      "cell_type": "code",
      "source": [
        "HR['DaysLateLast30'].describe()"
      ],
      "metadata": {
        "id": "o5ieQx4C304e"
      },
      "execution_count": null,
      "outputs": []
    },
    {
      "cell_type": "code",
      "source": [
        "HR['EngagementSurvey'].describe()"
      ],
      "metadata": {
        "id": "Np9Y5KfLr-SB"
      },
      "execution_count": null,
      "outputs": []
    },
    {
      "cell_type": "code",
      "source": [
        "t= sns.relplot(y=\"EngagementSurvey\", x=\"PerformanceScore\", data= HR)\n",
        "t.fig.suptitle(\"Engagement Level in Relation to Performance Score\", y= 1.05)"
      ],
      "metadata": {
        "id": "VgL7hizjy3nD"
      },
      "execution_count": null,
      "outputs": []
    },
    {
      "cell_type": "code",
      "source": [
        "t= sns.relplot(y=\"Salary\", x=\"Absences\", data= HR)\n",
        "t.fig.suptitle(\"Engagement Level in Relation to Performance Score\", y= 1.05)"
      ],
      "metadata": {
        "id": "YDJaegrx2NUD"
      },
      "execution_count": null,
      "outputs": []
    },
    {
      "cell_type": "code",
      "source": [
        "t= sns.relplot(x=\"Absences\", y=\"EmpSatisfaction\", data= HR)\n",
        "t.fig.suptitle(\"Employee Satisfaction in Relation to Absences\", y= 1.05)"
      ],
      "metadata": {
        "id": "pvnUl_3X7b0V"
      },
      "execution_count": null,
      "outputs": []
    },
    {
      "cell_type": "code",
      "source": [
        "t= sns.boxplot(x=\"Absences\", y=\"EngagementSurvey\", data= HR)\n",
        "#t.fig.suptitle(\"Employee Satisfaction in Relation to Absences\", y= 1.05)"
      ],
      "metadata": {
        "id": "jOitQNnJxCA-"
      },
      "execution_count": null,
      "outputs": []
    },
    {
      "cell_type": "code",
      "source": [
        "fig = plt.figure(figsize=(10,7))\n",
        "g = sns.heatmap(HR.corr());"
      ],
      "metadata": {
        "id": "Hcm8l3dk_yTI"
      },
      "execution_count": null,
      "outputs": []
    },
    {
      "cell_type": "code",
      "source": [
        "HR.columns"
      ],
      "metadata": {
        "id": "DsRc9WapAVgT"
      },
      "execution_count": null,
      "outputs": []
    },
    {
      "cell_type": "code",
      "source": [
        "fig= plt.figure(figsize= (5,20))\n",
        "a = sns.displot(HR.Sex)\n",
        "a.fig.suptitle(\"Distribution of Male and Female Employees\", y=1.05)\n",
        "plt.show()\n"
      ],
      "metadata": {
        "id": "_Y9KCjFmCW8M"
      },
      "execution_count": null,
      "outputs": []
    },
    {
      "cell_type": "code",
      "source": [
        "fig = plt.figure(figsize=(15, 5))\n",
        "ax = sns.catplot(x= \"Department\", kind=\"count\", data=HR, hue=\"Sex\")\n",
        "ax.fig.suptitle(\"Number of Females and Males in Each Department\",y=1.05);\n",
        "plt.show()\n"
      ],
      "metadata": {
        "id": "uFGA4Ww68hRf"
      },
      "execution_count": null,
      "outputs": []
    },
    {
      "cell_type": "code",
      "source": [],
      "metadata": {
        "id": "pcafTtB5dpUx"
      },
      "execution_count": null,
      "outputs": []
    },
    {
      "cell_type": "code",
      "source": [
        "import plotly.express as px\n",
        "#production_data = HR['Department'] == 'Production'\n",
        "#sns.relplot(x=production_data, y='Salary',data=HR, hue='Sex')\n",
        "b= px.sunburst(HR, path=['Sex'], values='Absences')\n",
        "b.show()"
      ],
      "metadata": {
        "id": "-47MsDKP7s2i"
      },
      "execution_count": null,
      "outputs": []
    },
    {
      "cell_type": "code",
      "source": [
        "HR['DateofHire'] = pd.to_datetime(HR['DateofHire'])\n",
        "# Calculate the current date\n",
        "current_date = pd.to_datetime('today')\n",
        "# Calculate the age for each person\n",
        "HR['Tenure'] = (current_date - HR['DateofHire']).astype('<m8[Y]')\n",
        "print(HR)"
      ],
      "metadata": {
        "id": "V2XHHen95RIm"
      },
      "execution_count": null,
      "outputs": []
    },
    {
      "cell_type": "code",
      "source": [
        "HR['Tenure'].describe()"
      ],
      "metadata": {
        "id": "EQbi1hjy6Dg7"
      },
      "execution_count": null,
      "outputs": []
    },
    {
      "cell_type": "code",
      "source": [
        "q=sns.relplot(data= HR, x=\"Salary\", y=\"Tenure\")\n",
        "q.fig.suptitle(\"Salary and Tenure\", y=1.05)"
      ],
      "metadata": {
        "id": "kanM62ju5pNO"
      },
      "execution_count": null,
      "outputs": []
    },
    {
      "cell_type": "code",
      "source": [
        "sns.boxplot(x=\"DeptID\", y=\"age\", data=HR)"
      ],
      "metadata": {
        "id": "S0IRrTbGYF5x"
      },
      "execution_count": null,
      "outputs": []
    },
    {
      "cell_type": "code",
      "source": [
        "HR['DOB'] = pd.to_datetime(HR['DOB'])\n",
        "# Calculate the current date\n",
        "current_date = pd.to_datetime('today')\n",
        "# Calculate the age for each person\n",
        "HR['age'] = (current_date - HR['DOB']).astype('<m8[Y]')\n",
        "print(HR)\n"
      ],
      "metadata": {
        "id": "5cwC3HnrBoiB"
      },
      "execution_count": null,
      "outputs": []
    },
    {
      "cell_type": "code",
      "source": [
        "HR['age'].describe()"
      ],
      "metadata": {
        "id": "6k8eF07c2zc7"
      },
      "execution_count": null,
      "outputs": []
    },
    {
      "cell_type": "code",
      "source": [
        "sns.boxplot(data= HR, x=\"Sex\", y=\"Salary\", hue=\"Sex\")"
      ],
      "metadata": {
        "id": "NTT_4ZisJDWC"
      },
      "execution_count": null,
      "outputs": []
    },
    {
      "cell_type": "code",
      "source": [
        "a=sns.boxplot(data= HR, x=\"DeptID\", y=\"Salary\")\n",
        "#a.fig.suptitle(\"Salary For Each Department\", y=1.05)"
      ],
      "metadata": {
        "id": "iIviPOltLsJN"
      },
      "execution_count": null,
      "outputs": []
    },
    {
      "cell_type": "code",
      "source": [
        "b= px.sunburst(HR, path=[ 'Sex'], values='Salary', names=\"Salary\")\n",
        "b.show()"
      ],
      "metadata": {
        "id": "BlKeTn0xPJC7"
      },
      "execution_count": null,
      "outputs": []
    },
    {
      "cell_type": "code",
      "source": [
        "(HR['Sex']=='F').describe()"
      ],
      "metadata": {
        "id": "PCxsDU8VKAFF"
      },
      "execution_count": null,
      "outputs": []
    },
    {
      "cell_type": "code",
      "source": [
        "sns.boxplot(data= HR, x=\"DeptID\", y=\"Absences\")"
      ],
      "metadata": {
        "id": "9YncX3lDB2Ku"
      },
      "execution_count": null,
      "outputs": []
    },
    {
      "cell_type": "code",
      "source": [
        "b= px.sunburst(HR, path=['Department', 'Sex'], values='PerfScoreID')\n",
        "b.show()"
      ],
      "metadata": {
        "id": "lDon1JyLezmx"
      },
      "execution_count": null,
      "outputs": []
    },
    {
      "cell_type": "code",
      "source": [
        "active= HR[(HR['EmploymentStatus']=='Active') & (HR['Sex'])]\n",
        "ax = sns.catplot(x=\"Sex\", kind=\"count\", data=active)\n",
        "ax.fig.suptitle(\"Active Male and Female Employees\", y=1.05)"
      ],
      "metadata": {
        "id": "7USJQ4q9X9qe"
      },
      "execution_count": null,
      "outputs": []
    },
    {
      "cell_type": "code",
      "source": [
        "t= sns.catplot(x=\"SpecialProjectsCount\", data=HR, hue=\"Department\", kind=\"count\")\n",
        "t.fig.suptitle(\"Special Projects per Department\", y=1.05)"
      ],
      "metadata": {
        "id": "lI9d9r2xWWTA"
      },
      "execution_count": null,
      "outputs": []
    },
    {
      "cell_type": "code",
      "source": [
        "t= sns.relplot(x=\"SpecialProjectsCount\", data=HR, y=\"Salary\")\n",
        "t.fig.suptitle(\"Salary in Relation to Age\", y=1.05)"
      ],
      "metadata": {
        "id": "E4bkpMEf41Bo"
      },
      "execution_count": null,
      "outputs": []
    },
    {
      "cell_type": "code",
      "source": [
        "b= px.sunburst(HR, path=['Department', 'Sex'], values='SpecialProjectsCount')\n",
        "b.show()"
      ],
      "metadata": {
        "id": "rfGgblUkgQQG"
      },
      "execution_count": null,
      "outputs": []
    },
    {
      "cell_type": "code",
      "source": [
        "ax = sns.relplot(y=\"EmpSatisfaction\", data=HR, x= \"Salary\", hue=\"Department\")"
      ],
      "metadata": {
        "id": "jEe0ansV6Y_M"
      },
      "execution_count": null,
      "outputs": []
    },
    {
      "cell_type": "code",
      "source": [
        "c= sns.catplot(x=\"Absences\", kind=\"count\", data=HR, hue= \"Department\")\n",
        "c.fig.suptitle(\"Number of Absenteeism Among the Departments\", y=1.05)"
      ],
      "metadata": {
        "id": "7Wv78lMwDjLG"
      },
      "execution_count": null,
      "outputs": []
    },
    {
      "cell_type": "code",
      "source": [
        "b= px.sunburst(HR, path=['Department', 'Sex'], values='Absences')\n",
        "b.show()"
      ],
      "metadata": {
        "id": "FM61VAZUD1X9"
      },
      "execution_count": null,
      "outputs": []
    },
    {
      "cell_type": "code",
      "source": [
        "x= sns.catplot(x=\"MaritalDesc\", kind=\"count\", data=HR, hue= \"Department\")\n",
        "x.fig.suptitle(\"Marital Description Among the Departments\", y=1.05)"
      ],
      "metadata": {
        "id": "L_uqFiszD8if"
      },
      "execution_count": null,
      "outputs": []
    },
    {
      "cell_type": "code",
      "source": [
        "x= sns.catplot(x=\"MaritalDesc\", kind=\"count\", data=HR, hue= \"Sex\")\n",
        "x.fig.suptitle(\"Marital Description of Employees\", y=1.05)"
      ],
      "metadata": {
        "id": "I3bTB4KdkC_v"
      },
      "execution_count": null,
      "outputs": []
    },
    {
      "cell_type": "code",
      "source": [
        "v= sns.catplot(hue=\"MaritalDesc\", y=\"Absences\", data=HR, kind= \"count\")\n",
        "v.fig.suptitle(\"The Amount of Absences for Each Marital Status\", y=1.05)"
      ],
      "metadata": {
        "id": "bIrT1nyMGkAL"
      },
      "execution_count": null,
      "outputs": []
    },
    {
      "cell_type": "code",
      "source": [
        "b= px.sunburst(HR, path=['MaritalDesc'], values='Absences')\n",
        "b.show()"
      ],
      "metadata": {
        "id": "RZUzXFFi80pW"
      },
      "execution_count": null,
      "outputs": []
    },
    {
      "cell_type": "code",
      "source": [
        "sns.catplot(x=\"SpecialProjectsCount\", data=HR, hue=\"ManagerName\", kind=\"count\")"
      ],
      "metadata": {
        "id": "pRELwWgcHolQ"
      },
      "execution_count": null,
      "outputs": []
    },
    {
      "cell_type": "code",
      "source": [
        "sns.relplot(x=\"SpecialProjectsCount\", data=HR, y=\"ManagerID\", kind=\"scatter\")"
      ],
      "metadata": {
        "id": "1u6qOR6fIZ6L"
      },
      "execution_count": null,
      "outputs": []
    },
    {
      "cell_type": "code",
      "source": [
        "b= px.sunburst(HR, path=['ManagerName'], values='SpecialProjectsCount')\n",
        "b.show()"
      ],
      "metadata": {
        "id": "a4sqEhI4KMhI"
      },
      "execution_count": null,
      "outputs": []
    },
    {
      "cell_type": "code",
      "source": [
        "sns.catplot(x=\"EmpStatusID\", kind=\"count\", data=HR, hue= \"Department\")"
      ],
      "metadata": {
        "id": "EsPxbW0fLWjl"
      },
      "execution_count": null,
      "outputs": []
    },
    {
      "cell_type": "code",
      "source": [
        "sns.relplot(x=\"DeptID\", y=\"PerfScoreID\", data=HR)"
      ],
      "metadata": {
        "id": "swfMAWkSM5l5"
      },
      "execution_count": null,
      "outputs": []
    },
    {
      "cell_type": "code",
      "source": [
        "b= px.sunburst(HR, path=['Sex'], values='Absences')\n",
        "b.show()"
      ],
      "metadata": {
        "id": "FIIB7Y7QRqLK"
      },
      "execution_count": null,
      "outputs": []
    }
  ]
}